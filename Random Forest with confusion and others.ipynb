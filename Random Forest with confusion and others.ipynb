{
 "cells": [
  {
   "cell_type": "code",
   "execution_count": 4,
   "id": "a9efa2d5",
   "metadata": {},
   "outputs": [],
   "source": [
    "from sklearn.ensemble import RandomForestClassifier\n",
    "from sklearn.model_selection import train_test_split\n",
    "from sklearn.metrics import accuracy_score\n",
    "import pandas as pd \n",
    "\n",
    "# Load the dataset\n",
    "X = pd.read_csv(\"Breast_cancer_data.csv\")\n",
    "y = X.pop('diagnosis')"
   ]
  },
  {
   "cell_type": "code",
   "execution_count": 5,
   "id": "e151631e",
   "metadata": {},
   "outputs": [
    {
     "name": "stdout",
     "output_type": "stream",
     "text": [
      "Accuracy:  0.9473684210526315\n"
     ]
    }
   ],
   "source": [
    "\n",
    "# Split the dataset into training and testing sets\n",
    "X_train, X_test, y_train, y_test = train_test_split(X, y, test_size=0.2, random_state=42)\n",
    "\n",
    "# Build the model\n",
    "model = RandomForestClassifier()\n",
    "\n",
    "# Train the model on the training data\n",
    "model.fit(X_train, y_train)\n",
    "\n",
    "# Make predictions on the test data\n",
    "y_pred = model.predict(X_test)\n",
    "\n",
    "# Calculate the accuracy of the model\n",
    "accuracy = accuracy_score(y_test, y_pred)\n",
    "\n",
    "print(\"Accuracy: \", accuracy)\n"
   ]
  },
  {
   "cell_type": "code",
   "execution_count": 6,
   "id": "a89bbf0b",
   "metadata": {},
   "outputs": [
    {
     "data": {
      "image/png": "[encoded data removed]",
      "text/plain": [
       "<Figure size 432x288 with 2 Axes>"
      ]
     },
     "metadata": {
      "needs_background": "light"
     },
     "output_type": "display_data"
    },
    {
     "name": "stdout",
     "output_type": "stream",
     "text": [
      "\n",
      "Confusion matrix\n",
      "\n",
      "\n",
      "\n",
      "Predicted  0  1\n",
      "True           \n",
      "0          1  2\n",
      "1          2  1\n",
      "\n",
      "\n",
      "\n",
      "\n",
      "\n",
      "PRECISION:\n",
      "\n",
      "0.3333333333333333\n",
      "\n",
      "\n",
      "\n",
      "RECALL:\n",
      "\n",
      "0.3333333333333333\n",
      "\n",
      "\n",
      "\n",
      "F1_SCORE:\n",
      "\n",
      "0.3333333333333333\n"
     ]
    }
   ],
   "source": [
    "import matplotlib.pyplot as plt\n",
    "from sklearn.metrics import confusion_matrix\n",
    "import pandas as pd\n",
    "\n",
    "# true labels\n",
    "y_true = [1, 0, 1, 0, 1, 0]\n",
    "\n",
    "# predicted labels\n",
    "y_pred = [0, 1, 1, 0, 0, 1]\n",
    "\n",
    "# compute confusion matrix\n",
    "conf_matrix = confusion_matrix(y_true, y_pred)\n",
    "\n",
    "# plot confusion matrix\n",
    "plt.imshow(conf_matrix, cmap='binary', interpolation='None')\n",
    "plt.colorbar()\n",
    "plt.xlabel('Predicted label')\n",
    "plt.ylabel('True label')\n",
    "plt.show()\n",
    "\n",
    "\n",
    "confusion_matrix = pd.crosstab(y_true, y_pred, rownames=['True'], colnames=['Predicted'])\n",
    "print(\"\\nConfusion matrix\\n\")\n",
    "print(\"\\n\")\n",
    "\n",
    "\n",
    "print(confusion_matrix)\n",
    "print(\"\\n\")\n",
    "precision = confusion_matrix[1][1] / (confusion_matrix[1][1] + confusion_matrix[0][1])\n",
    "print(\"\\n\")\n",
    "print(\"\\nPRECISION:\\n\")\n",
    "print(precision)\n",
    "\n",
    "print(\"\\n\")\n",
    "recall = confusion_matrix[1][1] / (confusion_matrix[1][1] + confusion_matrix[1][0])\n",
    "print(\"\\nRECALL:\\n\")\n",
    "print(recall)\n",
    "recall = confusion_matrix[1][1] / (confusion_matrix[1][1] + confusion_matrix[1][0])\n",
    "print(\"\\n\")\n",
    "print(\"\\nF1_SCORE:\\n\")\n",
    "f1_score = 2 * (precision * recall) / (precision + recall)\n",
    "print(f1_score)"
   ]
  },
  {
   "cell_type": "code",
   "execution_count": null,
   "id": "14fd092a",
   "metadata": {},
   "outputs": [],
   "source": []
  }
 ],
 "metadata": {
  "kernelspec": {
   "display_name": "Python 3 (ipykernel)",
   "language": "python",
   "name": "python3"
  },
  "language_info": {
   "codemirror_mode": {
    "name": "ipython",
    "version": 3
   },
   "file_extension": ".py",
   "mimetype": "text/x-python",
   "name": "python",
   "nbconvert_exporter": "python",
   "pygments_lexer": "ipython3",
   "version": "3.9.12"
  }
 },
 "nbformat": 4,
 "nbformat_minor": 5
}
